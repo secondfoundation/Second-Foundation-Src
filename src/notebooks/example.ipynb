{
 "metadata": {
  "name": "example"
 }, 
 "nbformat": 2, 
 "worksheets": [
  {
   "cells": [
    {
     "cell_type": "code", 
     "collapsed": false, 
     "input": [
      "import numpy as np", 
      "import matplotlib.pyplot as plt", 
      "", 
      "x1 = np.linspace(0.0,5.0)", 
      "x2 = np.linspace(0.0, 2.0)", 
      "", 
      "y1 = np.cos(2 * np.pi * x1) * np.exp(-x1)", 
      "y2 = np.cos(2 * np.pi * x2)", 
      "", 
      "plt.subplot(2, 1, 1)", 
      "plt.plot(x1, y1, 'ko-',label='test1')", 
      "plt.title('A tale of 2 subplots')", 
      "plt.ylabel('Damped oscillation')", 
      "plt.legend()", 
      "", 
      "plt.subplot(2, 1, 2)", 
      "plt.plot(x2, y2, 'r.-',label='test2')", 
      "plt.xlabel('time (s)')", 
      "plt.ylabel('Undamped')", 
      "", 
      "plt.legend()", 
      "plt.show()"
     ], 
     "language": "python", 
     "outputs": [], 
     "prompt_number": 8
    }, 
    {
     "cell_type": "code", 
     "collapsed": true, 
     "input": [], 
     "language": "python", 
     "outputs": []
    }
   ]
  }
 ]
}